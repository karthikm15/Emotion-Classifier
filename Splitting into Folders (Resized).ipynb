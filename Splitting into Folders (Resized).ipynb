{
 "cells": [
  {
   "cell_type": "code",
   "execution_count": 2,
   "metadata": {},
   "outputs": [],
   "source": [
    "import os\n",
    "import shutil\n",
    "import random"
   ]
  },
  {
   "cell_type": "code",
   "execution_count": 5,
   "metadata": {},
   "outputs": [],
   "source": [
    "unique_emotions = ['anger', 'surprise', 'disgust', 'fear', 'neutral', 'happiness', 'sadness', 'contempt']\n",
    "\n",
    "file = open('./output_resized/train_lst.lst', 'w+')\n",
    "emotions = unique_emotions\n",
    "counter = 0\n",
    "for emotion in emotions:\n",
    "    for index in os.listdir('./train_resize/' + emotion):\n",
    "        val_index = unique_emotions.index(emotion)\n",
    "        source = \"./train_resize/\"+unique_emotions[val_index]+\"/\"+index\n",
    "        output_path = './output_resized/'+unique_emotions[val_index]+\"/\"+index\n",
    "\n",
    "        path_in_file = unique_emotions[val_index]+\"/\"+index\n",
    "\n",
    "\n",
    "        if (os.path.exists(source) and not (os.path.exists(output_path))):\n",
    "            try:\n",
    "                dest = shutil.move(source, output_path)\n",
    "            except:\n",
    "                os.mkdir('output_resized/'+unique_emotions[val_index])\n",
    "                dest = shutil.copy(source,output_path)\n",
    "\n",
    "        if (os.path.exists(output_path)):\n",
    "            file.write('%d\\t%d\\t%s\\n' % (counter, val_index, path_in_file))\n",
    "            counter += 1"
   ]
  },
  {
   "cell_type": "code",
   "execution_count": 6,
   "metadata": {},
   "outputs": [],
   "source": [
    "unique_emotions = ['anger', 'surprise', 'disgust', 'fear', 'neutral', 'happiness', 'sadness', 'contempt']\n",
    "\n",
    "file = open('./output_resized/validation_lst.lst', 'w+')\n",
    "emotions = unique_emotions\n",
    "counter = 0\n",
    "for emotion in emotions:\n",
    "    for index in os.listdir('./valid_resize/' + emotion):\n",
    "        val_index = unique_emotions.index(emotion)\n",
    "        source = \"./valid_resize/\"+unique_emotions[val_index]+\"/\"+index\n",
    "        output_path = './output_resized/'+unique_emotions[val_index]+\"/\"+index\n",
    "\n",
    "        path_in_file = unique_emotions[val_index]+\"/\"+index\n",
    "\n",
    "\n",
    "        if (os.path.exists(source) and not (os.path.exists(output_path))):\n",
    "            try:\n",
    "                dest = shutil.move(source, output_path)\n",
    "            except:\n",
    "                os.mkdir('output_resized/'+unique_emotions[val_index])\n",
    "                dest = shutil.copy(source,output_path)\n",
    "\n",
    "        if (os.path.exists(output_path)):\n",
    "            file.write('%d\\t%d\\t%s\\n' % (counter, val_index, path_in_file))\n",
    "            counter += 1"
   ]
  },
  {
   "cell_type": "code",
   "execution_count": 18,
   "metadata": {},
   "outputs": [],
   "source": [
    "file = open('./output_resized/train_lst.lst', 'r')\n",
    "file2 = open('./output_resized/train_lst_shuffle.lst', 'w+')\n",
    "lines = file.readlines()\n",
    "\n",
    "random.shuffle(lines)\n",
    "#print(lines)\n",
    "counter = 0\n",
    "for line in lines:\n",
    "    split_line = line.split('\\t')\n",
    "    file2.write('%d\\t%d\\t%s' % (counter, int(split_line[1]), split_line[2]))\n",
    "    counter += 1"
   ]
  },
  {
   "cell_type": "code",
   "execution_count": 1,
   "metadata": {},
   "outputs": [],
   "source": [
    "# !mkdir output_resized"
   ]
  },
  {
   "cell_type": "code",
   "execution_count": 19,
   "metadata": {},
   "outputs": [],
   "source": [
    "file = open('./output_resized/validation_lst.lst', 'r')\n",
    "file2 = open('./output_resized/validation_lst_shuffle.lst', 'w+')\n",
    "lines = file.readlines()\n",
    "\n",
    "random.shuffle(lines)\n",
    "#print(lines)\n",
    "counter = 0\n",
    "for line in lines:\n",
    "    split_line = line.split('\\t')\n",
    "    file2.write('%d\\t%d\\t%s' % (counter, int(split_line[1]), split_line[2]))\n",
    "    counter += 1"
   ]
  },
  {
   "cell_type": "code",
   "execution_count": null,
   "metadata": {},
   "outputs": [],
   "source": []
  }
 ],
 "metadata": {
  "kernelspec": {
   "display_name": "conda_amazonei_tensorflow_p36",
   "language": "python",
   "name": "conda_amazonei_tensorflow_p36"
  },
  "language_info": {
   "codemirror_mode": {
    "name": "ipython",
    "version": 3
   },
   "file_extension": ".py",
   "mimetype": "text/x-python",
   "name": "python",
   "nbconvert_exporter": "python",
   "pygments_lexer": "ipython3",
   "version": "3.6.10"
  }
 },
 "nbformat": 4,
 "nbformat_minor": 4
}
