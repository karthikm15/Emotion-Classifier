{
 "cells": [
  {
   "cell_type": "code",
   "execution_count": 1,
   "metadata": {
    "scrolled": true
   },
   "outputs": [],
   "source": [
    "# !git clone https://github.com/muxspace/facial_expressions.git"
   ]
  },
  {
   "cell_type": "code",
   "execution_count": 21,
   "metadata": {},
   "outputs": [],
   "source": [
    "# Import Libraries - Pandas, OS, Tensorflow, etc.\n",
    "import pandas as pd\n",
    "import os\n",
    "import shutil \n",
    "import os.path\n",
    "import numpy as np\n",
    "import tensorflow as tf\n",
    "from keras.preprocessing.image import ImageDataGenerator\n",
    "import numpy as np\n",
    "\n",
    "import numpy as np\n",
    "from sklearn.utils.multiclass import unique_labels\n",
    "import os\n",
    "import matplotlib.pyplot as plt\n",
    "import matplotlib.image as mpimg\n",
    "import seaborn as sns\n",
    "import itertools\n",
    "from sklearn.model_selection import train_test_split\n",
    "from sklearn.metrics import confusion_matrix\n",
    "from keras import Sequential\n",
    "from keras.applications import VGG19 #For Transfer Learning\n",
    "from keras.preprocessing.image import ImageDataGenerator\n",
    "from keras.optimizers import SGD,Adam\n",
    "from keras.callbacks import ReduceLROnPlateau\n",
    "from keras.layers import Flatten,Dense,BatchNormalization,Activation,Dropout\n",
    "from keras.utils import to_categorical\n",
    "from pathlib import Path\n"
   ]
  },
  {
   "cell_type": "code",
   "execution_count": 22,
   "metadata": {},
   "outputs": [],
   "source": [
    "df = pd.read_csv(\"facial_expressions/data/legend.csv\")"
   ]
  },
  {
   "cell_type": "code",
   "execution_count": 23,
   "metadata": {},
   "outputs": [
    {
     "data": {
      "text/html": [
       "<div>\n",
       "<style scoped>\n",
       "    .dataframe tbody tr th:only-of-type {\n",
       "        vertical-align: middle;\n",
       "    }\n",
       "\n",
       "    .dataframe tbody tr th {\n",
       "        vertical-align: top;\n",
       "    }\n",
       "\n",
       "    .dataframe thead th {\n",
       "        text-align: right;\n",
       "    }\n",
       "</style>\n",
       "<table border=\"1\" class=\"dataframe\">\n",
       "  <thead>\n",
       "    <tr style=\"text-align: right;\">\n",
       "      <th></th>\n",
       "      <th>Unnamed: 0</th>\n",
       "      <th>user.id</th>\n",
       "      <th>image</th>\n",
       "      <th>emotion</th>\n",
       "    </tr>\n",
       "  </thead>\n",
       "  <tbody>\n",
       "    <tr>\n",
       "      <th>0</th>\n",
       "      <td>0</td>\n",
       "      <td>628</td>\n",
       "      <td>facial-expressions_2868588k.jpg</td>\n",
       "      <td>anger</td>\n",
       "    </tr>\n",
       "    <tr>\n",
       "      <th>1</th>\n",
       "      <td>1</td>\n",
       "      <td>628</td>\n",
       "      <td>facial-expressions_2868585k.jpg</td>\n",
       "      <td>surprise</td>\n",
       "    </tr>\n",
       "    <tr>\n",
       "      <th>2</th>\n",
       "      <td>2</td>\n",
       "      <td>628</td>\n",
       "      <td>facial-expressions_2868584k.jpg</td>\n",
       "      <td>disgust</td>\n",
       "    </tr>\n",
       "    <tr>\n",
       "      <th>3</th>\n",
       "      <td>3</td>\n",
       "      <td>628</td>\n",
       "      <td>facial-expressions_2868582k.jpg</td>\n",
       "      <td>fear</td>\n",
       "    </tr>\n",
       "    <tr>\n",
       "      <th>4</th>\n",
       "      <td>4</td>\n",
       "      <td>dwdii</td>\n",
       "      <td>Aaron_Eckhart_0001.jpg</td>\n",
       "      <td>neutral</td>\n",
       "    </tr>\n",
       "    <tr>\n",
       "      <th>...</th>\n",
       "      <td>...</td>\n",
       "      <td>...</td>\n",
       "      <td>...</td>\n",
       "      <td>...</td>\n",
       "    </tr>\n",
       "    <tr>\n",
       "      <th>13685</th>\n",
       "      <td>13685</td>\n",
       "      <td>jhamski</td>\n",
       "      <td>SharmilaTagore_80.jpg</td>\n",
       "      <td>happiness</td>\n",
       "    </tr>\n",
       "    <tr>\n",
       "      <th>13686</th>\n",
       "      <td>13686</td>\n",
       "      <td>jhamski</td>\n",
       "      <td>SharmilaTagore_81.jpg</td>\n",
       "      <td>happiness</td>\n",
       "    </tr>\n",
       "    <tr>\n",
       "      <th>13687</th>\n",
       "      <td>13687</td>\n",
       "      <td>jhamski</td>\n",
       "      <td>SharmilaTagore_82.jpg</td>\n",
       "      <td>happiness</td>\n",
       "    </tr>\n",
       "    <tr>\n",
       "      <th>13688</th>\n",
       "      <td>13688</td>\n",
       "      <td>jhamski</td>\n",
       "      <td>SharmilaTagore_83.jpg</td>\n",
       "      <td>happiness</td>\n",
       "    </tr>\n",
       "    <tr>\n",
       "      <th>13689</th>\n",
       "      <td>13689</td>\n",
       "      <td>jhamski</td>\n",
       "      <td>SharmilaTagore_9.jpg</td>\n",
       "      <td>happiness</td>\n",
       "    </tr>\n",
       "  </tbody>\n",
       "</table>\n",
       "<p>13690 rows × 4 columns</p>\n",
       "</div>"
      ],
      "text/plain": [
       "       Unnamed: 0  user.id                            image    emotion\n",
       "0               0      628  facial-expressions_2868588k.jpg      anger\n",
       "1               1      628  facial-expressions_2868585k.jpg   surprise\n",
       "2               2      628  facial-expressions_2868584k.jpg    disgust\n",
       "3               3      628  facial-expressions_2868582k.jpg       fear\n",
       "4               4    dwdii           Aaron_Eckhart_0001.jpg    neutral\n",
       "...           ...      ...                              ...        ...\n",
       "13685       13685  jhamski            SharmilaTagore_80.jpg  happiness\n",
       "13686       13686  jhamski            SharmilaTagore_81.jpg  happiness\n",
       "13687       13687  jhamski            SharmilaTagore_82.jpg  happiness\n",
       "13688       13688  jhamski            SharmilaTagore_83.jpg  happiness\n",
       "13689       13689  jhamski             SharmilaTagore_9.jpg  happiness\n",
       "\n",
       "[13690 rows x 4 columns]"
      ]
     },
     "execution_count": 23,
     "metadata": {},
     "output_type": "execute_result"
    }
   ],
   "source": [
    "# Normalizes different methods of representing the same emotion through case (e.g. \"ANGER\", \"Anger\", and \"anger\")\n",
    "df['emotion'] = [df['emotion'][i].lower() for i in df.index]\n",
    "df"
   ]
  },
  {
   "cell_type": "code",
   "execution_count": 24,
   "metadata": {},
   "outputs": [
    {
     "data": {
      "text/html": [
       "<div>\n",
       "<style scoped>\n",
       "    .dataframe tbody tr th:only-of-type {\n",
       "        vertical-align: middle;\n",
       "    }\n",
       "\n",
       "    .dataframe tbody tr th {\n",
       "        vertical-align: top;\n",
       "    }\n",
       "\n",
       "    .dataframe thead th {\n",
       "        text-align: right;\n",
       "    }\n",
       "</style>\n",
       "<table border=\"1\" class=\"dataframe\">\n",
       "  <thead>\n",
       "    <tr style=\"text-align: right;\">\n",
       "      <th></th>\n",
       "      <th>Unnamed: 0</th>\n",
       "      <th>image</th>\n",
       "      <th>emotion</th>\n",
       "    </tr>\n",
       "  </thead>\n",
       "  <tbody>\n",
       "    <tr>\n",
       "      <th>0</th>\n",
       "      <td>0</td>\n",
       "      <td>facial-expressions_2868588k.jpg</td>\n",
       "      <td>anger</td>\n",
       "    </tr>\n",
       "    <tr>\n",
       "      <th>1</th>\n",
       "      <td>1</td>\n",
       "      <td>facial-expressions_2868585k.jpg</td>\n",
       "      <td>surprise</td>\n",
       "    </tr>\n",
       "    <tr>\n",
       "      <th>2</th>\n",
       "      <td>2</td>\n",
       "      <td>facial-expressions_2868584k.jpg</td>\n",
       "      <td>disgust</td>\n",
       "    </tr>\n",
       "    <tr>\n",
       "      <th>3</th>\n",
       "      <td>3</td>\n",
       "      <td>facial-expressions_2868582k.jpg</td>\n",
       "      <td>fear</td>\n",
       "    </tr>\n",
       "    <tr>\n",
       "      <th>4</th>\n",
       "      <td>4</td>\n",
       "      <td>Aaron_Eckhart_0001.jpg</td>\n",
       "      <td>neutral</td>\n",
       "    </tr>\n",
       "  </tbody>\n",
       "</table>\n",
       "</div>"
      ],
      "text/plain": [
       "   Unnamed: 0                            image   emotion\n",
       "0           0  facial-expressions_2868588k.jpg     anger\n",
       "1           1  facial-expressions_2868585k.jpg  surprise\n",
       "2           2  facial-expressions_2868584k.jpg   disgust\n",
       "3           3  facial-expressions_2868582k.jpg      fear\n",
       "4           4           Aaron_Eckhart_0001.jpg   neutral"
      ]
     },
     "execution_count": 24,
     "metadata": {},
     "output_type": "execute_result"
    }
   ],
   "source": [
    "# Look at data and remove unnecessary columns\n",
    "del df['user.id']\n",
    "df.head()"
   ]
  },
  {
   "cell_type": "code",
   "execution_count": 25,
   "metadata": {},
   "outputs": [
    {
     "data": {
      "text/plain": [
       "13690"
      ]
     },
     "execution_count": 25,
     "metadata": {},
     "output_type": "execute_result"
    }
   ],
   "source": [
    "len(df)"
   ]
  },
  {
   "cell_type": "code",
   "execution_count": 26,
   "metadata": {},
   "outputs": [
    {
     "data": {
      "text/plain": [
       "['anger',\n",
       " 'surprise',\n",
       " 'disgust',\n",
       " 'fear',\n",
       " 'neutral',\n",
       " 'happiness',\n",
       " 'sadness',\n",
       " 'contempt']"
      ]
     },
     "execution_count": 26,
     "metadata": {},
     "output_type": "execute_result"
    }
   ],
   "source": [
    "# Print out unique emotions after normalization to use in our classification\n",
    "unique_emotions = list(df['emotion'].unique())\n",
    "unique_emotions"
   ]
  },
  {
   "cell_type": "code",
   "execution_count": 27,
   "metadata": {},
   "outputs": [
    {
     "data": {
      "text/html": [
       "<div>\n",
       "<style scoped>\n",
       "    .dataframe tbody tr th:only-of-type {\n",
       "        vertical-align: middle;\n",
       "    }\n",
       "\n",
       "    .dataframe tbody tr th {\n",
       "        vertical-align: top;\n",
       "    }\n",
       "\n",
       "    .dataframe thead th {\n",
       "        text-align: right;\n",
       "    }\n",
       "</style>\n",
       "<table border=\"1\" class=\"dataframe\">\n",
       "  <thead>\n",
       "    <tr style=\"text-align: right;\">\n",
       "      <th></th>\n",
       "      <th>index</th>\n",
       "      <th>Unnamed: 0</th>\n",
       "      <th>image</th>\n",
       "      <th>emotion</th>\n",
       "    </tr>\n",
       "  </thead>\n",
       "  <tbody>\n",
       "    <tr>\n",
       "      <th>0</th>\n",
       "      <td>1233</td>\n",
       "      <td>1233</td>\n",
       "      <td>Bill_Gates_0009.jpg</td>\n",
       "      <td>neutral</td>\n",
       "    </tr>\n",
       "    <tr>\n",
       "      <th>1</th>\n",
       "      <td>3730</td>\n",
       "      <td>3730</td>\n",
       "      <td>George_Clooney_0005.jpg</td>\n",
       "      <td>happiness</td>\n",
       "    </tr>\n",
       "    <tr>\n",
       "      <th>2</th>\n",
       "      <td>10557</td>\n",
       "      <td>10557</td>\n",
       "      <td>Rod_Bryden_0001.jpg</td>\n",
       "      <td>neutral</td>\n",
       "    </tr>\n",
       "    <tr>\n",
       "      <th>3</th>\n",
       "      <td>6417</td>\n",
       "      <td>6417</td>\n",
       "      <td>John_Cornyn_0001.jpg</td>\n",
       "      <td>neutral</td>\n",
       "    </tr>\n",
       "    <tr>\n",
       "      <th>4</th>\n",
       "      <td>3733</td>\n",
       "      <td>3733</td>\n",
       "      <td>George_Clooney_0008.jpg</td>\n",
       "      <td>happiness</td>\n",
       "    </tr>\n",
       "    <tr>\n",
       "      <th>...</th>\n",
       "      <td>...</td>\n",
       "      <td>...</td>\n",
       "      <td>...</td>\n",
       "      <td>...</td>\n",
       "    </tr>\n",
       "    <tr>\n",
       "      <th>8209</th>\n",
       "      <td>11884</td>\n",
       "      <td>11884</td>\n",
       "      <td>Tom_Daschle_0022.jpg</td>\n",
       "      <td>neutral</td>\n",
       "    </tr>\n",
       "    <tr>\n",
       "      <th>8210</th>\n",
       "      <td>2748</td>\n",
       "      <td>2748</td>\n",
       "      <td>Dennis_Hastert_0006.jpg</td>\n",
       "      <td>happiness</td>\n",
       "    </tr>\n",
       "    <tr>\n",
       "      <th>8211</th>\n",
       "      <td>12869</td>\n",
       "      <td>12869</td>\n",
       "      <td>Dileep_7.jpg</td>\n",
       "      <td>sadness</td>\n",
       "    </tr>\n",
       "    <tr>\n",
       "      <th>8212</th>\n",
       "      <td>5439</td>\n",
       "      <td>5439</td>\n",
       "      <td>Jacques_Chirac_0030.jpg</td>\n",
       "      <td>neutral</td>\n",
       "    </tr>\n",
       "    <tr>\n",
       "      <th>8213</th>\n",
       "      <td>1635</td>\n",
       "      <td>1635</td>\n",
       "      <td>Carlos_Menem_0017.jpg</td>\n",
       "      <td>happiness</td>\n",
       "    </tr>\n",
       "  </tbody>\n",
       "</table>\n",
       "<p>8214 rows × 4 columns</p>\n",
       "</div>"
      ],
      "text/plain": [
       "      index  Unnamed: 0                    image    emotion\n",
       "0      1233        1233      Bill_Gates_0009.jpg    neutral\n",
       "1      3730        3730  George_Clooney_0005.jpg  happiness\n",
       "2     10557       10557      Rod_Bryden_0001.jpg    neutral\n",
       "3      6417        6417     John_Cornyn_0001.jpg    neutral\n",
       "4      3733        3733  George_Clooney_0008.jpg  happiness\n",
       "...     ...         ...                      ...        ...\n",
       "8209  11884       11884     Tom_Daschle_0022.jpg    neutral\n",
       "8210   2748        2748  Dennis_Hastert_0006.jpg  happiness\n",
       "8211  12869       12869             Dileep_7.jpg    sadness\n",
       "8212   5439        5439  Jacques_Chirac_0030.jpg    neutral\n",
       "8213   1635        1635    Carlos_Menem_0017.jpg  happiness\n",
       "\n",
       "[8214 rows x 4 columns]"
      ]
     },
     "execution_count": 27,
     "metadata": {},
     "output_type": "execute_result"
    }
   ],
   "source": [
    "df = df.sample(frac = 1) \n",
    "train = df[0:int(len(df['image'])*0.6)]\n",
    "valid = df[int(len(df['image'])*0.6):]\n",
    "train = train.reset_index()\n",
    "valid = valid.reset_index()\n",
    "\n",
    "train"
   ]
  },
  {
   "cell_type": "code",
   "execution_count": 28,
   "metadata": {},
   "outputs": [],
   "source": [
    "# for index in train.index:\n",
    "#     if (index % 100 == 0):\n",
    "#         print(index)\n",
    "#     source = \"./facial_expressions/images/\"+train['image'][index]\n",
    "#     destination = './train/'+train['emotion'][index]+'/'+train['image'][index]\n",
    "#     if (os.path.exists(source) and not (os.path.exists(destination))):\n",
    "#         try:\n",
    "#             dest = shutil.move(source, destination)\n",
    "#         except:\n",
    "#             os.mkdir('train/'+train['emotion'][index])\n",
    "#             dest = shutil.move(source,destination)"
   ]
  },
  {
   "cell_type": "code",
   "execution_count": 29,
   "metadata": {},
   "outputs": [],
   "source": [
    "# for index in valid.index:\n",
    "#     if (index % 100 == 0):\n",
    "#         print(index)\n",
    "#     source = \"./facial_expressions/images/\"+valid['image'][index]\n",
    "#     destination = './valid/'+valid['emotion'][index]+'/'+valid['image'][index]\n",
    "    \n",
    "#     if (os.path.exists(source) and not (os.path.exists(destination))):\n",
    "#         try:\n",
    "#             dest = shutil.move(source, destination)\n",
    "#         except:\n",
    "#             os.mkdir('valid/'+valid['emotion'][index])\n",
    "#             dest = shutil.move(source,destination)"
   ]
  },
  {
   "cell_type": "code",
   "execution_count": 10,
   "metadata": {},
   "outputs": [],
   "source": [
    "# Loading in training data\n",
    "train_datagen = ImageDataGenerator(\n",
    "        rescale=1./255,\n",
    "        shear_range=0.2,\n",
    "        zoom_range=0.2,\n",
    "        horizontal_flip=True)"
   ]
  },
  {
   "cell_type": "code",
   "execution_count": 11,
   "metadata": {},
   "outputs": [
    {
     "name": "stdout",
     "output_type": "stream",
     "text": [
      "Found 31515 images belonging to 8 classes.\n"
     ]
    }
   ],
   "source": [
    "train_generator = train_datagen.flow_from_directory(\n",
    "        './train_resize',\n",
    "        target_size=(50, 50),\n",
    "        batch_size=16,\n",
    "        class_mode='categorical')"
   ]
  },
  {
   "cell_type": "code",
   "execution_count": 12,
   "metadata": {},
   "outputs": [
    {
     "name": "stdout",
     "output_type": "stream",
     "text": [
      "Found 21850 images belonging to 8 classes.\n"
     ]
    }
   ],
   "source": [
    "# Loading in testing data\n",
    "test_datagen = ImageDataGenerator(rescale=1./255)\n",
    "test_generator = train_datagen.flow_from_directory(\n",
    "        './valid_resize',\n",
    "        target_size=(50, 50),\n",
    "        batch_size=16,\n",
    "        class_mode='categorical')"
   ]
  },
  {
   "cell_type": "code",
   "execution_count": 13,
   "metadata": {},
   "outputs": [
    {
     "name": "stdout",
     "output_type": "stream",
     "text": [
      "WARNING:tensorflow:From /home/ec2-user/anaconda3/envs/amazonei_tensorflow_p36/lib/python3.6/site-packages/tensorflow_core/python/ops/resource_variable_ops.py:1630: calling BaseResourceVariable.__init__ (from tensorflow.python.ops.resource_variable_ops) with constraint is deprecated and will be removed in a future version.\n",
      "Instructions for updating:\n",
      "If using Keras pass *_constraint arguments to layers.\n"
     ]
    }
   ],
   "source": [
    "# initialising sequential model and adding layers to it\n",
    "# cnn = tf.keras.models.Sequential()\n",
    "# cnn.add(tf.keras.layers.Conv2D(filters=48, kernel_size=3, activation='relu', input_shape=(3, 350, 350)))\n",
    "# cnn.add(tf.keras.layers.MaxPool2D(pool_size=2, strides=2))\n",
    "\n",
    "# cnn.add(tf.keras.layers.Conv2D(filters=48, kernel_size=3, activation='relu'))\n",
    "# cnn.add(tf.keras.layers.MaxPool2D(pool_size=2, strides=2))\n",
    "# cnn.add(tf.keras.layers.Conv2D(filters=32, kernel_size=3, activation='relu'))\n",
    "# cnn.add(tf.keras.layers.MaxPool2D(pool_size=2, strides=2))\n",
    "# cnn.add(tf.keras.layers.Flatten())\n",
    "# cnn.add(tf.keras.layers.Dense(128, activation='relu'))\n",
    "# cnn.add(tf.keras.layers.Dense(64, activation='relu'))\n",
    "# cnn.add(tf.keras.layers.Dense(8, activation='softmax'))\n",
    "\n",
    "# Initializing sequential model that makes use of convolutional, pooling, and dense layers\n",
    "cnn = tf.keras.models.Sequential()\n",
    "cnn.add(tf.keras.layers.Conv2D(filters=48, kernel_size=3, activation='relu', input_shape=(50, 50, 3), padding='same'))\n",
    "#cnn.add(tf.keras.layers.MaxPool2D(pool_size=2, strides=2))\n",
    "cnn.add(tf.keras.layers.MaxPool2D((2,2), strides=(2,2), padding='same'))\n",
    "cnn.add(tf.keras.layers.Conv2D(filters=48, kernel_size=3, activation='relu', padding = 'same'))\n",
    "cnn.add(tf.keras.layers.MaxPool2D(pool_size=2, strides=2, padding = 'same'))\n",
    "cnn.add(tf.keras.layers.Conv2D(filters=32, kernel_size=3, activation='relu', padding = 'same'))\n",
    "cnn.add(tf.keras.layers.MaxPool2D(pool_size=2, strides=2, padding='same'))\n",
    "cnn.add(tf.keras.layers.Flatten())\n",
    "cnn.add(tf.keras.layers.Dense(128, activation='relu'))\n",
    "cnn.add(tf.keras.layers.Dense(64, activation='relu'))\n",
    "cnn.add(tf.keras.layers.Dense(8, activation='softmax'))"
   ]
  },
  {
   "cell_type": "code",
   "execution_count": 14,
   "metadata": {},
   "outputs": [],
   "source": [
    "# config = tf.ConfigProto(\n",
    "#         device_count = {'GPU': 0}\n",
    "#     )\n",
    "# sess = tf.Session(config=config)"
   ]
  },
  {
   "cell_type": "code",
   "execution_count": 15,
   "metadata": {},
   "outputs": [
    {
     "name": "stdout",
     "output_type": "stream",
     "text": [
      "Model: \"sequential\"\n",
      "_________________________________________________________________\n",
      "Layer (type)                 Output Shape              Param #   \n",
      "=================================================================\n",
      "conv2d (Conv2D)              (None, 50, 50, 48)        1344      \n",
      "_________________________________________________________________\n",
      "max_pooling2d (MaxPooling2D) (None, 25, 25, 48)        0         \n",
      "_________________________________________________________________\n",
      "conv2d_1 (Conv2D)            (None, 25, 25, 48)        20784     \n",
      "_________________________________________________________________\n",
      "max_pooling2d_1 (MaxPooling2 (None, 13, 13, 48)        0         \n",
      "_________________________________________________________________\n",
      "conv2d_2 (Conv2D)            (None, 13, 13, 32)        13856     \n",
      "_________________________________________________________________\n",
      "max_pooling2d_2 (MaxPooling2 (None, 7, 7, 32)          0         \n",
      "_________________________________________________________________\n",
      "flatten (Flatten)            (None, 1568)              0         \n",
      "_________________________________________________________________\n",
      "dense (Dense)                (None, 128)               200832    \n",
      "_________________________________________________________________\n",
      "dense_1 (Dense)              (None, 64)                8256      \n",
      "_________________________________________________________________\n",
      "dense_2 (Dense)              (None, 8)                 520       \n",
      "=================================================================\n",
      "Total params: 245,592\n",
      "Trainable params: 245,592\n",
      "Non-trainable params: 0\n",
      "_________________________________________________________________\n"
     ]
    }
   ],
   "source": [
    "cnn.summary()"
   ]
  },
  {
   "cell_type": "code",
   "execution_count": null,
   "metadata": {},
   "outputs": [
    {
     "name": "stdout",
     "output_type": "stream",
     "text": [
      "Epoch 1/12\n",
      "1968/1970 [============================>.] - ETA: 0s - loss: 1.2935 - acc: 0.4717Epoch 1/12\n",
      "1970/1970 [==============================] - 203s 103ms/step - loss: 1.2934 - acc: 0.4718 - val_loss: 1.3624 - val_acc: 0.5011\n",
      "Epoch 2/12\n",
      "1969/1970 [============================>.] - ETA: 0s - loss: 0.8166 - acc: 0.6804Epoch 1/12\n",
      "1970/1970 [==============================] - 149s 75ms/step - loss: 0.8164 - acc: 0.6805 - val_loss: 1.6836 - val_acc: 0.5395\n",
      "Epoch 3/12\n",
      "1969/1970 [============================>.] - ETA: 0s - loss: 0.5651 - acc: 0.7833Epoch 1/12\n",
      "1970/1970 [==============================] - 413s 210ms/step - loss: 0.5649 - acc: 0.7833 - val_loss: 1.7841 - val_acc: 0.5578\n",
      "Epoch 4/12\n",
      "1969/1970 [============================>.] - ETA: 0s - loss: 0.4493 - acc: 0.8296Epoch 1/12\n",
      "1970/1970 [==============================] - 564s 286ms/step - loss: 0.4495 - acc: 0.8296 - val_loss: 2.1945 - val_acc: 0.5563\n",
      "Epoch 5/12\n",
      "1968/1970 [============================>.] - ETA: 0s - loss: 0.3788 - acc: 0.8569Epoch 1/12\n",
      "1970/1970 [==============================] - 451s 229ms/step - loss: 0.3791 - acc: 0.8568 - val_loss: 2.3186 - val_acc: 0.5590\n",
      "Epoch 6/12\n",
      "1969/1970 [============================>.] - ETA: 0s - loss: 0.3459 - acc: 0.8694Epoch 1/12\n",
      "1970/1970 [==============================] - 492s 250ms/step - loss: 0.3460 - acc: 0.8693 - val_loss: 2.6927 - val_acc: 0.5660\n",
      "Epoch 7/12\n",
      "1969/1970 [============================>.] - ETA: 0s - loss: 0.3159 - acc: 0.8801Epoch 1/12\n",
      "1970/1970 [==============================] - 572s 290ms/step - loss: 0.3158 - acc: 0.8802 - val_loss: 2.7344 - val_acc: 0.5714\n",
      "Epoch 8/12\n",
      "1969/1970 [============================>.] - ETA: 0s - loss: 0.2871 - acc: 0.8899Epoch 1/12\n",
      "1970/1970 [==============================] - 460s 233ms/step - loss: 0.2870 - acc: 0.8899 - val_loss: 2.7021 - val_acc: 0.5686\n",
      "Epoch 9/12\n",
      "1968/1970 [============================>.] - ETA: 0s - loss: 0.2727 - acc: 0.8958Epoch 1/12\n",
      "1970/1970 [==============================] - 481s 244ms/step - loss: 0.2725 - acc: 0.8958 - val_loss: 2.8306 - val_acc: 0.5652\n",
      "Epoch 10/12\n",
      "1969/1970 [============================>.] - ETA: 0s - loss: 0.2581 - acc: 0.9022Epoch 1/12\n",
      "1970/1970 [==============================] - 568s 288ms/step - loss: 0.2584 - acc: 0.9021 - val_loss: 3.0100 - val_acc: 0.5640\n",
      "Epoch 11/12\n",
      "1969/1970 [============================>.] - ETA: 0s - loss: 0.2500 - acc: 0.9047Epoch 1/12\n",
      "1970/1970 [==============================] - 505s 257ms/step - loss: 0.2499 - acc: 0.9047 - val_loss: 2.9297 - val_acc: 0.5753\n",
      "Epoch 12/12\n",
      "1968/1970 [============================>.] - ETA: 0s - loss: 0.2480 - acc: 0.9071Epoch 1/12\n",
      "1970/1970 [==============================] - 451s 229ms/step - loss: 0.2481 - acc: 0.9072 - val_loss: 2.9159 - val_acc: 0.5654\n"
     ]
    },
    {
     "data": {
      "text/plain": [
       "<tensorflow.python.keras.callbacks.History at 0x7f0357895668>"
      ]
     },
     "execution_count": 16,
     "metadata": {},
     "output_type": "execute_result"
    }
   ],
   "source": [
    "# finally compile and train the cnn\n",
    "cnn.compile(optimizer=\"adam\", loss=\"categorical_crossentropy\", metrics=[\"accuracy\"])\n",
    "cnn.fit(x=train_generator, validation_data=test_generator, epochs=12)"
   ]
  },
  {
   "cell_type": "code",
   "execution_count": null,
   "metadata": {},
   "outputs": [],
   "source": [
    "# !mkdir model\n",
    "cnn.save('model/my_model')"
   ]
  },
  {
   "cell_type": "code",
   "execution_count": 31,
   "metadata": {},
   "outputs": [],
   "source": [
    "import cv2\n",
    "import tensorflow as tf\n",
    "\n",
    "CATEGORIES = [\"Dog\", \"Cat\"]  # will use this to convert prediction num to string value\n",
    "\n",
    "def prepare(filepath):\n",
    "    IMG_SIZE = 50  # 50 in txt-based\n",
    "    img_array = cv2.imread(filepath)  # read in the image, convert to grayscale\n",
    "    new_array = cv2.resize(img_array, (IMG_SIZE, IMG_SIZE))  # resize image to match model's expected sizing\n",
    "    return new_array.reshape(-1, IMG_SIZE, IMG_SIZE, 3)  # return the image with shaping that TF wants.\n",
    "\n",
    "prediction = cnn.predict([prepare('facial_expressions/test/52b.jpg')]) "
   ]
  },
  {
   "cell_type": "code",
   "execution_count": 32,
   "metadata": {},
   "outputs": [
    {
     "name": "stdout",
     "output_type": "stream",
     "text": [
      "[[0. 0. 0. 0. 0. 1. 0. 0.]]\n"
     ]
    }
   ],
   "source": [
    "print(prediction)"
   ]
  },
  {
   "cell_type": "code",
   "execution_count": 30,
   "metadata": {},
   "outputs": [
    {
     "name": "stdout",
     "output_type": "stream",
     "text": [
      "WARNING:tensorflow:From /home/ec2-user/anaconda3/envs/amazonei_tensorflow_p36/lib/python3.6/site-packages/tensorflow_core/python/ops/init_ops.py:97: calling GlorotUniform.__init__ (from tensorflow.python.ops.init_ops) with dtype is deprecated and will be removed in a future version.\n",
      "Instructions for updating:\n",
      "Call initializer instance with the dtype argument instead of passing it to the constructor\n",
      "WARNING:tensorflow:From /home/ec2-user/anaconda3/envs/amazonei_tensorflow_p36/lib/python3.6/site-packages/tensorflow_core/python/ops/init_ops.py:97: calling Zeros.__init__ (from tensorflow.python.ops.init_ops) with dtype is deprecated and will be removed in a future version.\n",
      "Instructions for updating:\n",
      "Call initializer instance with the dtype argument instead of passing it to the constructor\n"
     ]
    }
   ],
   "source": [
    "new_model = tf.keras.models.load_model('./model/my_model')"
   ]
  },
  {
   "cell_type": "code",
   "execution_count": 50,
   "metadata": {},
   "outputs": [
    {
     "name": "stdout",
     "output_type": "stream",
     "text": [
      "anger:14\n",
      "surprise:0\n",
      "disgust:1\n",
      "fear:0\n",
      "neutral:110\n",
      "happiness:100\n",
      "sadness:19\n",
      "contempt:19\n"
     ]
    }
   ],
   "source": [
    "unique_count = {'anger' : 0,\n",
    " 'surprise' : 0,\n",
    " 'disgust' : 0,\n",
    " 'fear' : 0,\n",
    " 'neutral' : 0,\n",
    " 'happiness' : 0,\n",
    " 'sadness' : 0,\n",
    " 'contempt' : 0}\n",
    "for test_file in os.listdir(\"./test_resize\"):\n",
    "    #print(test_file)\n",
    "    prediction = new_model.predict([prepare(\"./test_resize/\" + test_file)])\n",
    "    prediction_list = prediction.tolist()\n",
    "    prediction_list = prediction_list[0]\n",
    "    max_value = max(prediction_list)\n",
    "    maximum = -1\n",
    "    for index in prediction_list:\n",
    "        if (maximum < index):\n",
    "            maximum = index\n",
    "    unique_emotion = unique_emotions[prediction_list.index(maximum)]\n",
    "    \n",
    "    unique_count[unique_emotion] += 1\n",
    "\n",
    "for key in unique_count.keys():\n",
    "    print(key + \":\" + str(unique_count[key]))\n",
    "    "
   ]
  },
  {
   "cell_type": "code",
   "execution_count": 64,
   "metadata": {},
   "outputs": [],
   "source": [
    "unique_pictures = {'anger' : [],\n",
    " 'surprise' : [],\n",
    " 'disgust' : [],\n",
    " 'fear' : [],\n",
    " 'neutral' : [],\n",
    " 'happiness' : [],\n",
    " 'sadness' : [],\n",
    " 'contempt' : []}\n",
    "\n",
    "for test_file in os.listdir(\"./test_resize\"):\n",
    "    #print(test_file)\n",
    "    prediction = new_model.predict([prepare(\"./test_resize/\" + test_file)])\n",
    "    prediction_list = prediction.tolist()\n",
    "    prediction_list = prediction_list[0]\n",
    "    max_value = max(prediction_list)\n",
    "    maximum = -1\n",
    "    for index in prediction_list:\n",
    "        if (maximum < index):\n",
    "            maximum = index\n",
    "    unique_emotion = unique_emotions[prediction_list.index(maximum)]\n",
    "    \n",
    "    unique_pictures[unique_emotion].append(\"./test_resize/\" + test_file)"
   ]
  },
  {
   "cell_type": "code",
   "execution_count": 75,
   "metadata": {},
   "outputs": [
    {
     "data": {
      "text/plain": [
       "<matplotlib.image.AxesImage at 0x7f031bf40978>"
      ]
     },
     "execution_count": 75,
     "metadata": {},
     "output_type": "execute_result"
    },
    {
     "data": {
      "image/png": "[encoded data removed]",
      "text/plain": [
       "<Figure size 432x288 with 1 Axes>"
      ]
     },
     "metadata": {
      "needs_background": "light"
     },
     "output_type": "display_data"
    }
   ],
   "source": [
    "plt.imshow(cv2.imread(unique_pictures['sadness'][8]))"
   ]
  },
  {
   "cell_type": "code",
   "execution_count": 61,
   "metadata": {},
   "outputs": [
    {
     "name": "stdout",
     "output_type": "stream",
     "text": [
      "None\n"
     ]
    }
   ],
   "source": [
    "val = cv2.imread(unique_pictures['anger'][0])\n",
    "print(val)"
   ]
  },
  {
   "cell_type": "code",
   "execution_count": null,
   "metadata": {},
   "outputs": [],
   "source": []
  }
 ],
 "metadata": {
  "kernelspec": {
   "display_name": "conda_amazonei_tensorflow_p36",
   "language": "python",
   "name": "conda_amazonei_tensorflow_p36"
  },
  "language_info": {
   "codemirror_mode": {
    "name": "ipython",
    "version": 3
   },
   "file_extension": ".py",
   "mimetype": "text/x-python",
   "name": "python",
   "nbconvert_exporter": "python",
   "pygments_lexer": "ipython3",
   "version": "3.6.10"
  }
 },
 "nbformat": 4,
 "nbformat_minor": 4
}
