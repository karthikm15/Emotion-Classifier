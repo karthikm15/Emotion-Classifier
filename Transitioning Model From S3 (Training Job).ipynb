{
 "cells": [
  {
   "cell_type": "code",
   "execution_count": 2,
   "metadata": {},
   "outputs": [],
   "source": [
    "import boto3\n",
    "s3 = boto3.resource('s3')\n",
    "\n",
    "BUCKET_NAME = 'checkpoints12345625345'\n",
    "ITEM_NAME = 'model.tar.gz'\n",
    "obj = s3.Object(BUCKET_NAME, ITEM_NAME)\n",
    "s3.Bucket(BUCKET_NAME).download_file(ITEM_NAME, 'model.tar.gz')"
   ]
  }
 ],
 "metadata": {
  "kernelspec": {
   "display_name": "conda_amazonei_tensorflow_p36",
   "language": "python",
   "name": "conda_amazonei_tensorflow_p36"
  },
  "language_info": {
   "codemirror_mode": {
    "name": "ipython",
    "version": 3
   },
   "file_extension": ".py",
   "mimetype": "text/x-python",
   "name": "python",
   "nbconvert_exporter": "python",
   "pygments_lexer": "ipython3",
   "version": "3.6.10"
  }
 },
 "nbformat": 4,
 "nbformat_minor": 4
}
